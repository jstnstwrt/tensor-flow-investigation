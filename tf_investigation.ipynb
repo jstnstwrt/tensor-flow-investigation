{
 "cells": [
  {
   "cell_type": "markdown",
   "metadata": {},
   "source": [
    "# Google's Tensor Flow"
   ]
  },
  {
   "cell_type": "markdown",
   "metadata": {},
   "source": [
    "We are going to introduce and demonstrate some of the functionality of Google's Tensor Flow machine learning library. We will go through the expert tutorials with some added commentary. "
   ]
  },
  {
   "cell_type": "markdown",
   "metadata": {},
   "source": [
    "## Background"
   ]
  },
  {
   "cell_type": "markdown",
   "metadata": {},
   "source": [
    "\"TensorFlow is an open source software library for numerical computation using data flow graphs. Nodes in the graph represent mathematical operations, while the graph edges represent the multidimensional data arrays (tensors) that flow between them.\" -tf's github\n",
    "\n",
    "primarily designed for implementing deep learning algorithms, the branch of machine learning loosely inspired by how the brain actually functions (i.e., neural networks).\n",
    "\n",
    "what google uses it for: google image search, speech recognition\n"
   ]
  },
  {
   "cell_type": "markdown",
   "metadata": {},
   "source": [
    "### Where does the name TensorFlow come from?"
   ]
  },
  {
   "cell_type": "markdown",
   "metadata": {},
   "source": [
    "what is a tensor: a generalization of a matrix. in fact it is a generalization of a scalar. scalar is a rank 0 tensor, a vector is a rank 1 tensor, a matrix is a rank 2 tensor, and so on. where the rank is the number of dimensions necessary to represent it.\n",
    "\n",
    "flow describes the graph structure used in processing data, passing tensors (data) through different computations. nodes. \n",
    "\n",
    "\"Data flow graphs describe mathematical computation with a directed graph of nodes & edges. Nodes typically implement mathematical operations, but can also represent endpoints to feed in data, push out results, or read/write persistent variables. Edges describe the input/output relationships between nodes."
   ]
  },
  {
   "cell_type": "markdown",
   "metadata": {},
   "source": [
    "### Key Features"
   ]
  },
  {
   "cell_type": "markdown",
   "metadata": {},
   "source": [
    "1. **Common Language:** unify the tools used in research and production. give a common language.\n",
    "\n",
    "\n",
    "2. **Portability:** historically lots of this work has been designed to run on gpus and clusters and wasnt neccessarily easily available for the everyday person to run on there own machine. this makes this possible. so if you write your code on your own pc, then want to scale it up to run on a gpu (or mobile), you dont have to change your code to do so.\n",
    "\n",
    "\n",
    "3. **Flexibility:** \"TensorFlow isn't a rigid neural networks library. If you can express your computation as a data flow graph, you can use TensorFlow. You construct the graph, and you write the inner loop that drives computation.\n"
   ]
  },
  {
   "cell_type": "markdown",
   "metadata": {},
   "source": [
    "### Visualizing a data flow graph ( a TF computation)"
   ]
  },
  {
   "cell_type": "code",
   "execution_count": 17,
   "metadata": {
    "collapsed": false
   },
   "outputs": [
    {
     "data": {
      "text/html": [
       "<img src=\"tensors_flowing.gif\"/>"
      ],
      "text/plain": [
       "<IPython.core.display.Image object>"
      ]
     },
     "execution_count": 17,
     "metadata": {},
     "output_type": "execute_result"
    }
   ],
   "source": [
    "from IPython.display import Image\n",
    "Image(url='tensors_flowing.gif') "
   ]
  },
  {
   "cell_type": "markdown",
   "metadata": {},
   "source": [
    "Courtesy of https://www.tensorflow.org/"
   ]
  },
  {
   "cell_type": "markdown",
   "metadata": {},
   "source": [
    "## Installation"
   ]
  },
  {
   "cell_type": "code",
   "execution_count": 1,
   "metadata": {
    "collapsed": false
   },
   "outputs": [],
   "source": [
    "# !pip install --upgrade https://storage.googleapis.com/tensorflow/mac/tensorflow-0.6.0-py2-none-any.whl"
   ]
  },
  {
   "cell_type": "markdown",
   "metadata": {},
   "source": [
    "If you need furhter installation information, see: https://www.tensorflow.org/versions/master/get_started/os_setup.html"
   ]
  },
  {
   "cell_type": "markdown",
   "metadata": {},
   "source": [
    "A further note: you may have issue of conflicts with you TF install and the anaconda distribution or other packages you have installed. This can be resolved through the use of virtual environments. A virtual environment allows you to locally install packages into a container. Anaconda has there own version of virtual environments but the classic is virtualenv. See: https://virtualenv.readthedocs.org/en/latest/ for more details. Also note that when using jupyter notebooks with a virtual environment, that when you launch the kernel inside your directory, the virtual environment is activated."
   ]
  },
  {
   "cell_type": "markdown",
   "metadata": {},
   "source": [
    "## An example"
   ]
  },
  {
   "cell_type": "markdown",
   "metadata": {},
   "source": [
    "We are going to use Tensor Flow to fit a line to some randomly generated data in 2-space."
   ]
  },
  {
   "cell_type": "code",
   "execution_count": 3,
   "metadata": {
    "collapsed": false
   },
   "outputs": [],
   "source": [
    "import tensorflow as tf\n",
    "import numpy as np"
   ]
  },
  {
   "cell_type": "markdown",
   "metadata": {},
   "source": [
    "We can use numpy to randomly generate some data for us to use. Create 100 random x,y data points such that, y = .3x + 5. "
   ]
  },
  {
   "cell_type": "code",
   "execution_count": 4,
   "metadata": {
    "collapsed": true
   },
   "outputs": [],
   "source": [
    "x_data = np.random.rand(100).astype(\"float32\")\n",
    "y_data = .3 * x_data + 5"
   ]
  },
  {
   "cell_type": "markdown",
   "metadata": {},
   "source": [
    "Since we know the true relationship between the variables, x and y, we can use TF to figure out the relationship from the data. That is, we will try to find values for w and b that best compute:  ```y_data = w * x_data + b``` "
   ]
  },
  {
   "cell_type": "code",
   "execution_count": 35,
   "metadata": {
    "collapsed": true
   },
   "outputs": [],
   "source": [
    "w = tf.Variable(tf.random_uniform([1], -1.0, 1.0))\n",
    "b = tf.Variable(tf.zeros([1]))\n",
    "y = w * x_data + b"
   ]
  },
  {
   "cell_type": "markdown",
   "metadata": {},
   "source": [
    "'When you train a model, you use variables to hold and update parameters. Variables are in-memory buffers containing tensors. They must be explicitly initialized and can be saved to disk during and after training. You can later restore saved values to exercise or analyse the model.' \n",
    "\n",
    "When you create a Variable you pass a Tensor as its initial value to the Variable() constructor. \n",
    "\n",
    "The Variable() constructor requires an initial value for the variable, which can be a Tensor of any type and shape. The initial value defines the type and shape of the variable. After construction, the type and shape of the variable are fixed. The value can be changed using one of the assign methods.\n",
    "\n",
    "When you launch the graph, variables have to be explicitly initialized before you can run Ops that use their value."
   ]
  },
  {
   "cell_type": "code",
   "execution_count": 36,
   "metadata": {
    "collapsed": false
   },
   "outputs": [
    {
     "name": "stdout",
     "output_type": "stream",
     "text": [
      "<tensorflow.python.ops.variables.Variable object at 0x109dd6c90>\n",
      "<tensorflow.python.ops.variables.Variable object at 0x109dd6c50>\n",
      "Tensor(\"add_3:0\", shape=TensorShape([Dimension(100)]), dtype=float32)\n"
     ]
    }
   ],
   "source": [
    "print w\n",
    "print b\n",
    "print y"
   ]
  },
  {
   "cell_type": "code",
   "execution_count": 38,
   "metadata": {
    "collapsed": true
   },
   "outputs": [],
   "source": [
    "init = tf.initialize_all_variables()\n",
    "sess = tf.Session()\n",
    "sess.run(init)"
   ]
  },
  {
   "cell_type": "code",
   "execution_count": 39,
   "metadata": {
    "collapsed": false
   },
   "outputs": [
    {
     "name": "stdout",
     "output_type": "stream",
     "text": [
      "[ 0.63127995]\n",
      "[ 0.]\n",
      "[ 0.16167025  0.62144017  0.06227706  0.26099056  0.39547613  0.02538954\n",
      "  0.04254995  0.02384327  0.27687776  0.52027094  0.46981218  0.55963999\n",
      "  0.54360223  0.32065192  0.25171527  0.37261125  0.24827303  0.19528943\n",
      "  0.01257526  0.31029716  0.47039214  0.0057034   0.60684437  0.46698195\n",
      "  0.34681514  0.56363785  0.13201982  0.04884309  0.02231766  0.4965339\n",
      "  0.59441578  0.14676043  0.21272175  0.41361594  0.34637389  0.43703303\n",
      "  0.20074779  0.47462761  0.43575332  0.26571006  0.59261596  0.38044703\n",
      "  0.40684146  0.45186147  0.2644189   0.38140455  0.18724765  0.53629208\n",
      "  0.37896869  0.39486369  0.21941397  0.2072829   0.06208486  0.00817479\n",
      "  0.29177007  0.41413614  0.17810728  0.21859515  0.08276157  0.22317378\n",
      "  0.05110284  0.07662912  0.24403962  0.50978565  0.03319493  0.36871788\n",
      "  0.45615366  0.4711239   0.03194514  0.28670403  0.24050452  0.2292304\n",
      "  0.02591235  0.17999196  0.07442317  0.48510021  0.09471246  0.24111933\n",
      "  0.52478158  0.31288767  0.59338009  0.36093572  0.37295842  0.52344275\n",
      "  0.01897088  0.35016173  0.05701647  0.19259779  0.3846724   0.39348179\n",
      "  0.37290341  0.36320594  0.61656934  0.27629587  0.59427261  0.5047372\n",
      "  0.07870312  0.37447721  0.56253076  0.36664429]\n"
     ]
    }
   ],
   "source": [
    "print sess.run(w)\n",
    "print sess.run(b)\n",
    "print sess.run(y)"
   ]
  },
  {
   "cell_type": "markdown",
   "metadata": {},
   "source": [
    "tf.zeros([1]) Creates a tensor with all elements set to zero."
   ]
  },
  {
   "cell_type": "markdown",
   "metadata": {},
   "source": [
    "## Further reasources"
   ]
  },
  {
   "cell_type": "code",
   "execution_count": null,
   "metadata": {
    "collapsed": true
   },
   "outputs": [],
   "source": []
  }
 ],
 "metadata": {
  "kernelspec": {
   "display_name": "Python 2",
   "language": "python",
   "name": "python2"
  },
  "language_info": {
   "codemirror_mode": {
    "name": "ipython",
    "version": 2
   },
   "file_extension": ".py",
   "mimetype": "text/x-python",
   "name": "python",
   "nbconvert_exporter": "python",
   "pygments_lexer": "ipython2",
   "version": "2.7.10"
  }
 },
 "nbformat": 4,
 "nbformat_minor": 0
}
